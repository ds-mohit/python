{
 "cells": [
  {
   "cell_type": "markdown",
   "id": "2e747ab4",
   "metadata": {},
   "source": [
    " dictionary ->ordered and muttable"
   ]
  },
  {
   "cell_type": "code",
   "execution_count": 1,
   "id": "72eaa037",
   "metadata": {},
   "outputs": [
    {
     "name": "stdout",
     "output_type": "stream",
     "text": [
      "<class 'dict'>\n",
      "Alice\n",
      "{'name': 'Alice', 'age': 21, 'course': 'AI', 'city': 'Delhi'}\n"
     ]
    }
   ],
   "source": [
    "student = {\n",
    "    \"name\": \"Alice\",\n",
    "    \"age\": 20,\n",
    "    \"course\": \"AI\"\n",
    "}\n",
    "print(type(student))  # <class 'dict'>\n",
    "print(student[\"name\"])  # Alice\n",
    "student[\"age\"] = 21     # Update value\n",
    "student[\"city\"] = \"Delhi\"  # Add new key-value pair\n",
    "print(student)"
   ]
  },
  {
   "cell_type": "code",
   "execution_count": null,
   "id": "ed8240d8",
   "metadata": {},
   "outputs": [
    {
     "data": {
      "text/plain": [
       "20"
      ]
     },
     "execution_count": 6,
     "metadata": {},
     "output_type": "execute_result"
    }
   ],
   "source": [
    "student = {\n",
    "    \"name\": \"Alice\",\n",
    "    \"age\":{\n",
    "        \"value\": 20,\n",
    "        \"unit\": \"years\"\n",
    "    },\n",
    "    \"course\": \"AI\"\n",
    "}\n",
    "\n",
    "student[\"name\"] # Alice\n",
    "# student[\"age\"] = 21     # Update value\n",
    "student[\"city\"] = \"Delhi\"  # Add new key-value pair\n",
    "student\n",
    "student[\"age\"][\"value\"]  # 20\n",
    "student[\"age\"][\"unit\"]   # years\n",
    "\n",
    "\n"
   ]
  },
  {
   "cell_type": "code",
   "execution_count": null,
   "id": "751fd0f4",
   "metadata": {},
   "outputs": [
    {
     "name": "stdout",
     "output_type": "stream",
     "text": [
      "Alice\n",
      "{'name': 'Alice', 'age': 21, 'city': 'Delhi'}\n"
     ]
    },
    {
     "data": {
      "text/plain": [
       "{'name': 'kk', 'city': 'Delhi', 'course': 'ml'}"
      ]
     },
     "execution_count": 5,
     "metadata": {},
     "output_type": "execute_result"
    }
   ],
   "source": [
    "student = {\n",
    "    \"name\": \"Alice\",\n",
    "    \"age\": 20,\n",
    "    \"course\" :\"Ai\",\n",
    "}\n",
    "\n",
    "# print(student[\"name\"])  # Alice\n",
    "# student[\"age\"] = 21     # Update value\n",
    "# student[\"city\"] = \"Delhi\"  # Add new key-value pair\n",
    "# print(student)\n",
    "# student.get(\"name\")\n",
    "# student.update({\"name\":\"kk\"})\n",
    "# student\n",
    "# student.values()\n",
    "# student.pop(\"age\")  # Remove key-value pair\n",
    "# student\n",
    "# student.setdefault(\"course\",\"ml\") # Add key-value pair if not exists\n",
    "# student \n"
   ]
  },
  {
   "cell_type": "code",
   "execution_count": 7,
   "id": "6e097945",
   "metadata": {},
   "outputs": [
    {
     "name": "stdout",
     "output_type": "stream",
     "text": [
      "{'hello': '10', 'hy': '10'}\n"
     ]
    }
   ],
   "source": [
    "dict1={}.fromkeys([\"hello\",\"hy\"], \"10\")\n",
    "print(dict1)"
   ]
  },
  {
   "cell_type": "code",
   "execution_count": null,
   "id": "b0d24185",
   "metadata": {},
   "outputs": [],
   "source": []
  }
 ],
 "metadata": {
  "kernelspec": {
   "display_name": "Python 3",
   "language": "python",
   "name": "python3"
  },
  "language_info": {
   "codemirror_mode": {
    "name": "ipython",
    "version": 3
   },
   "file_extension": ".py",
   "mimetype": "text/x-python",
   "name": "python",
   "nbconvert_exporter": "python",
   "pygments_lexer": "ipython3",
   "version": "3.11.9"
  }
 },
 "nbformat": 4,
 "nbformat_minor": 5
}
