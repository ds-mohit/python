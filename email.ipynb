{
 "cells": [
  {
   "cell_type": "markdown",
   "id": "f56e278c",
   "metadata": {},
   "source": [
    "# project\n"
   ]
  },
  {
   "cell_type": "markdown",
   "id": "8aec5733",
   "metadata": {},
   "source": []
  },
  {
   "cell_type": "code",
   "execution_count": 3,
   "id": "eaea6717",
   "metadata": {},
   "outputs": [
    {
     "name": "stdout",
     "output_type": "stream",
     "text": [
      "An error occurred: [Errno 11003] getaddrinfo failed\n"
     ]
    }
   ],
   "source": [
    "import smtplib\n",
    "try:\n",
    "    server =smtplib.SMTP(\"smtp.@gmail.com\",port=587)\n",
    "    server.starttls()##function to start server\n",
    "\n",
    "    #receiver email\n",
    "    receiver_mail=input(\"Enter the receiver email\")\n",
    "\n",
    "    #credentials\n",
    "    sender_mail='iammohit3520@gmail.com'\n",
    "    password=\"iwkd fpsy vcps smkl\"\n",
    "\n",
    "    #login to the server\n",
    "    server.login(sender_mail,password)\n",
    "    subject=input(\"Enter the subject of the mail\")\n",
    "    body=input(\"Enter the body of the mail\")\n",
    "    #formatting the subject and body\n",
    "    #message to be sent\n",
    "    message=input(\"Enter the message to be sent\")\n",
    "    message = f'Subject: {subject}\\n\\n{message}'\n",
    "    #sending the mail\n",
    "    server.sendmail(sender_mail,receiver_mail,message)\n",
    "    print(\"Mail sent successfully\")\n",
    "\n",
    "    server.quit()  # Close the server connection\n",
    "except Exception as e:\n",
    "    print(f\"An error occurred: {e}\")"
   ]
  }
 ],
 "metadata": {
  "kernelspec": {
   "display_name": "Python 3",
   "language": "python",
   "name": "python3"
  },
  "language_info": {
   "codemirror_mode": {
    "name": "ipython",
    "version": 3
   },
   "file_extension": ".py",
   "mimetype": "text/x-python",
   "name": "python",
   "nbconvert_exporter": "python",
   "pygments_lexer": "ipython3",
   "version": "3.11.9"
  }
 },
 "nbformat": 4,
 "nbformat_minor": 5
}
