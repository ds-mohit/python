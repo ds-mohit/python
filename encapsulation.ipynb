{
 "cells": [
  {
   "cell_type": "markdown",
   "id": "4f565bbe",
   "metadata": {},
   "source": [
    "# Encapsulation\n"
   ]
  },
  {
   "cell_type": "code",
   "execution_count": null,
   "id": "eadc9efa",
   "metadata": {},
   "outputs": [],
   "source": [
    "# it means hiding the internal details of the class and protecting data from bring access or modified\n",
    "#directly outside the world.\n",
    "# we can do it by using private and protect variable\n",
    "#to create protect variable --> _variable_name ->it can be accessible inside the class and its subordinate\n",
    "#to create private variable --> __variable_name "
   ]
  },
  {
   "cell_type": "code",
   "execution_count": null,
   "id": "e2549b16",
   "metadata": {},
   "outputs": [
    {
     "ename": "AttributeError",
     "evalue": "'Student' object has no attribute '__marks'",
     "output_type": "error",
     "traceback": [
      "\u001b[31m---------------------------------------------------------------------------\u001b[39m",
      "\u001b[31mAttributeError\u001b[39m                            Traceback (most recent call last)",
      "\u001b[36mCell\u001b[39m\u001b[36m \u001b[39m\u001b[32mIn[2]\u001b[39m\u001b[32m, line 16\u001b[39m\n\u001b[32m     13\u001b[39m             \u001b[38;5;28mprint\u001b[39m(\u001b[33m\"\u001b[39m\u001b[33mInvalid marks\u001b[39m\u001b[33m\"\u001b[39m)\n\u001b[32m     15\u001b[39m c1=Student(\u001b[33m\"\u001b[39m\u001b[33mabc\u001b[39m\u001b[33m\"\u001b[39m,\u001b[32m90\u001b[39m)\n\u001b[32m---> \u001b[39m\u001b[32m16\u001b[39m \u001b[43mc1\u001b[49m\u001b[43m.\u001b[49m\u001b[43m__marks\u001b[49m\n",
      "\u001b[31mAttributeError\u001b[39m: 'Student' object has no attribute '__marks'"
     ]
    }
   ],
   "source": [
    "class Student():\n",
    "    def __init__(self,name,marks):\n",
    "        self.name=name\n",
    "        self.__marks=marks\n",
    "    \n",
    "    def get_marks(self):\n",
    "        return self.__marks0\n",
    "    \n",
    "    def set_marks(self,marks):\n",
    "        if 0<=marks<=100:\n",
    "            self.marks=marks\n",
    "        else:\n",
    "            print(\"Invalid marks\")\n",
    "\n",
    "c1=Student(\"abc\",90)\n",
    "c1.__marks\n",
    "\n"
   ]
  },
  {
   "cell_type": "code",
   "execution_count": null,
   "id": "f3e32a1e",
   "metadata": {},
   "outputs": [],
   "source": [
    "# we can access private variable using name mangling\n",
    "# this works as it change the name of the private variable"
   ]
  },
  {
   "cell_type": "code",
   "execution_count": null,
   "id": "cdf1a71f",
   "metadata": {},
   "outputs": [
    {
     "data": {
      "text/plain": [
       "90"
      ]
     },
     "execution_count": 4,
     "metadata": {},
     "output_type": "execute_result"
    }
   ],
   "source": [
    "class Student():\n",
    "    def __init__(self,name,marks):\n",
    "        self.name=name\n",
    "        self.__marks=marks\n",
    "    \n",
    "    def get_marks(self):\n",
    "        return self.__marks\n",
    "    \n",
    "    def set_marks(self,marks):\n",
    "        if 0<=marks<=100:\n",
    "            self.marks=marks\n",
    "        else:\n",
    "            print(\"Invalid marks\")\n",
    "\n",
    "c1=Student(\"abc\",90)\n",
    "c1._Student__marks#name mangling"
   ]
  },
  {
   "cell_type": "code",
   "execution_count": null,
   "id": "81386003",
   "metadata": {},
   "outputs": [],
   "source": []
  }
 ],
 "metadata": {
  "kernelspec": {
   "display_name": "Python 3",
   "language": "python",
   "name": "python3"
  },
  "language_info": {
   "codemirror_mode": {
    "name": "ipython",
    "version": 3
   },
   "file_extension": ".py",
   "mimetype": "text/x-python",
   "name": "python",
   "nbconvert_exporter": "python",
   "pygments_lexer": "ipython3",
   "version": "3.11.9"
  }
 },
 "nbformat": 4,
 "nbformat_minor": 5
}
