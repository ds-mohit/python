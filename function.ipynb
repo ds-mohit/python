{
 "cells": [
  {
   "cell_type": "markdown",
   "id": "6c19a405",
   "metadata": {},
   "source": [
    "# Function"
   ]
  },
  {
   "cell_type": "markdown",
   "id": "c6e1ecfe",
   "metadata": {},
   "source": [
    "### it is a block of code that only runs when it is called"
   ]
  },
  {
   "cell_type": "code",
   "execution_count": 37,
   "id": "4c889cd2",
   "metadata": {},
   "outputs": [
    {
     "name": "stdout",
     "output_type": "stream",
     "text": [
      "Hello, World!\n"
     ]
    }
   ],
   "source": [
    "def greet():\n",
    "    print(\"Hello, World!\")\n",
    "greet()"
   ]
  },
  {
   "cell_type": "code",
   "execution_count": 38,
   "id": "b19a97ac",
   "metadata": {},
   "outputs": [
    {
     "name": "stdout",
     "output_type": "stream",
     "text": [
      "8\n",
      "30\n"
     ]
    }
   ],
   "source": [
    "def add(a,b):\n",
    "    return a+b\n",
    "c=add(5,3)\n",
    "print(c)\n",
    "\n",
    "def add(a,b):\n",
    "   c=a+b\n",
    "   print(c)\n",
    "add(10,20)\n",
    "     \n"
   ]
  },
  {
   "cell_type": "code",
   "execution_count": 39,
   "id": "8efb723f",
   "metadata": {},
   "outputs": [
    {
     "name": "stdout",
     "output_type": "stream",
     "text": [
      "The youngest child is ram\n"
     ]
    }
   ],
   "source": [
    "#Arbitary Arguments is when we don't know how many arguments we will pass to the function\n",
    "def child(*kids):\n",
    "    print(\"The youngest child is \" + kids[0])\n",
    "\n",
    "child(\"ram\", \"shyam\", \"mohan\")\n",
    "# Keyword Arguments is when we pass arguments to a function by explicitly stating the parameter name"
   ]
  },
  {
   "cell_type": "code",
   "execution_count": 40,
   "id": "17b303d7",
   "metadata": {},
   "outputs": [
    {
     "name": "stdout",
     "output_type": "stream",
     "text": [
      "The youngest child is mohan\n"
     ]
    }
   ],
   "source": [
    "#keyword arguments\n",
    "def child(child1, child2, child3):\n",
    "    print(\"The youngest child is \" + child3)    \n",
    "child(child1=\"ram\", child2=\"shyam\", child3=\"mohan\")"
   ]
  },
  {
   "cell_type": "code",
   "execution_count": null,
   "id": "9250e622",
   "metadata": {},
   "outputs": [
    {
     "name": "stdout",
     "output_type": "stream",
     "text": [
      "His last name is mohan\n"
     ]
    }
   ],
   "source": [
    "# Arbitrary Keyword Arguments is when we pass a variable number of keyword arguments to a function\n",
    "def child(**kid):\n",
    "  print(\"His last name is \" + kid[\"lname\"])\n",
    "\n",
    "child(fname = \"ram\", lname = \"mohan\")\n"
   ]
  },
  {
   "cell_type": "code",
   "execution_count": null,
   "id": "a0cdea43",
   "metadata": {},
   "outputs": [
    {
     "name": "stdout",
     "output_type": "stream",
     "text": [
      "I am from Sweden\n",
      "I am from India\n",
      "I am from Norway\n",
      "I am from Brazil\n"
     ]
    }
   ],
   "source": [
    "# Default Arguments is when we pass a default value to a parameter in the function definition\n",
    "def my_country(country = \"Norway\"):\n",
    "  print(\"I am from \" + country)\n",
    "\n",
    "my_country(\"Sweden\")\n",
    "my_country(\"India\")\n",
    "my_country()\n",
    "my_country(\"Brazil\")"
   ]
  },
  {
   "cell_type": "code",
   "execution_count": 43,
   "id": "6efcb8fe",
   "metadata": {},
   "outputs": [
    {
     "name": "stdout",
     "output_type": "stream",
     "text": [
      "apple\n",
      "banana\n",
      "cherry\n"
     ]
    }
   ],
   "source": [
    "# passing list as an argument in function\n",
    "def my_function(food):\n",
    "  for x in food:\n",
    "    print(x)\n",
    "\n",
    "fruits = [\"apple\", \"banana\", \"cherry\"]\n",
    "\n",
    "my_function(fruits)"
   ]
  },
  {
   "cell_type": "code",
   "execution_count": 58,
   "id": "d52133c1",
   "metadata": {},
   "outputs": [
    {
     "name": "stdout",
     "output_type": "stream",
     "text": [
      "the average is 30.0\n"
     ]
    }
   ],
   "source": [
    "# def avg(*numbers):\n",
    "#     total = sum(numbers)\n",
    "#     count = len(numbers)\n",
    "#     return total / count if count > 0 else 0\n",
    "# print(avg(10,20,20,30))  # Output: 20.0\n",
    "\n",
    "# def avg(lst):\n",
    "#     total= sum(lst)\n",
    "#     count = len(lst)\n",
    "#     avrage=total/count\n",
    "#     print(\"the avg is\",avrage)\n",
    "\n",
    "# lst=[10,20,30]\n",
    "\n",
    "# def num(numbers):\n",
    "#     average=sum(numbers)/len(numbers)\n",
    "#     print(average)\n",
    "\n",
    "# nums=[10,20,30,40,50]\n",
    "# num(nums)\n",
    "\n",
    "def avg(num):\n",
    "    print(\"the average is\", sum(num)/len(num))\n",
    "avg([10,20,30,40,50])"
   ]
  },
  {
   "cell_type": "code",
   "execution_count": null,
   "id": "62d08e77",
   "metadata": {},
   "outputs": [],
   "source": []
  }
 ],
 "metadata": {
  "kernelspec": {
   "display_name": "Python 3",
   "language": "python",
   "name": "python3"
  },
  "language_info": {
   "codemirror_mode": {
    "name": "ipython",
    "version": 3
   },
   "file_extension": ".py",
   "mimetype": "text/x-python",
   "name": "python",
   "nbconvert_exporter": "python",
   "pygments_lexer": "ipython3",
   "version": "3.11.9"
  }
 },
 "nbformat": 4,
 "nbformat_minor": 5
}
