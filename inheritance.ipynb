{
 "cells": [
  {
   "cell_type": "markdown",
   "id": "42e600e7",
   "metadata": {},
   "source": [
    "# Inheritance\n",
    "##### inheritance is a process of acquiring properties of another class\n",
    " "
   ]
  },
  {
   "cell_type": "markdown",
   "id": "fb0dd0cb",
   "metadata": {},
   "source": [
    "#### single level inheritance"
   ]
  },
  {
   "cell_type": "code",
   "execution_count": null,
   "id": "a7bc3935",
   "metadata": {},
   "outputs": [
    {
     "name": "stdout",
     "output_type": "stream",
     "text": [
      "Some sound\n"
     ]
    }
   ],
   "source": [
    "class Animal():\n",
    "    def sound(self):\n",
    "        return \"Some sound\"\n",
    "    def move(self):\n",
    "        return \"Some movement\"\n",
    "class dog(Animal):\n",
    "    def sound(self):\n",
    "        return \"Bark\"\n",
    "    def move(self):\n",
    "        return \"Run\"\n",
    "\n",
    "d1=dog()\n",
    "print(d1.sound())"
   ]
  },
  {
   "cell_type": "code",
   "execution_count": 5,
   "id": "b7800875",
   "metadata": {},
   "outputs": [
    {
     "name": "stdout",
     "output_type": "stream",
     "text": [
      "name is:mohit ,age is:20\n",
      "name is:rohit ,age is:10\n"
     ]
    }
   ],
   "source": [
    "class parent():\n",
    "    def __init__(self,name,age):\n",
    "        self.name=name\n",
    "        self.age=age\n",
    "\n",
    "    def display(self):\n",
    "        print(f\"name is:{self.name} ,age is:{self.age}\")\n",
    "\n",
    "class child(parent):\n",
    "    pass\n",
    "\n",
    "c1=parent(\"mohit\",20)\n",
    "c1.display()\n",
    "c2=child(\"rohit\",10)\n",
    "c2.display()"
   ]
  },
  {
   "cell_type": "code",
   "execution_count": 7,
   "id": "a0d159ae",
   "metadata": {},
   "outputs": [
    {
     "name": "stdout",
     "output_type": "stream",
     "text": [
      "car\n",
      "Bike\n"
     ]
    }
   ],
   "source": [
    "class Car():\n",
    "    def display(self):\n",
    "        return \"car\"\n",
    "\n",
    "class Bike(Car):\n",
    "    def show(self):\n",
    "        return \"Bike\"\n",
    "\n",
    "b1=Bike()\n",
    "print(b1.display())\n",
    "print(b1.show())"
   ]
  },
  {
   "cell_type": "code",
   "execution_count": 14,
   "id": "d6a4e069",
   "metadata": {},
   "outputs": [
    {
     "name": "stdout",
     "output_type": "stream",
     "text": [
      "Name is:Mohit,Salary is20000\n"
     ]
    }
   ],
   "source": [
    "class parent():\n",
    "    def __init__(self,name):\n",
    "        self.name=name\n",
    "    \n",
    "    def show(self):\n",
    "        return self.name\n",
    "\n",
    "class child(parent):\n",
    "    def __init__(self,name,salary):\n",
    "        self.salary=salary\n",
    "        super().__init__(name)# super keyword is used to access methods of parent class\n",
    "\n",
    "    def display(self):\n",
    "        print(f\"Name is:{self.name},Salary is{self.salary}\")\n",
    "c1=child(\"Mohit\",20000)\n",
    "c1.display()\n",
    "        \n"
   ]
  },
  {
   "cell_type": "markdown",
   "id": "cacdd60f",
   "metadata": {},
   "source": [
    "### Multiple inheritance"
   ]
  },
  {
   "cell_type": "code",
   "execution_count": 21,
   "id": "559716cf",
   "metadata": {},
   "outputs": [
    {
     "data": {
      "text/plain": [
       "20000"
      ]
     },
     "execution_count": 21,
     "metadata": {},
     "output_type": "execute_result"
    }
   ],
   "source": [
    "class Person():\n",
    "    def __init__(self,name):\n",
    "        self.name = name\n",
    "    \n",
    "    def show(self):\n",
    "        return self.name\n",
    "\n",
    "class Job():\n",
    "    def __init__(self,salary):\n",
    "        self.salary=salary\n",
    "    \n",
    "    def sal(self):\n",
    "        return self.salary\n",
    "\n",
    "\n",
    "class Employee(Person):\n",
    "    def __init__(self,name,salary):\n",
    "        self.salary=salary\n",
    "        super().__init__(name)# super keyword is used to access methods of parent class\n",
    "\n",
    "class Employeeonjob(Employee,Job):\n",
    "    def __init__(self ,name, salary):\n",
    "        Employee.__init__(self,name,salary)\n",
    "        Job.__init__(self,salary)\n",
    "\n",
    "c1=Employeeonjob(\"mohit\",20000)\n",
    "c1.show()\n",
    "c1.sal()\n",
    "\n"
   ]
  },
  {
   "cell_type": "code",
   "execution_count": 27,
   "id": "469084bf",
   "metadata": {},
   "outputs": [
    {
     "name": "stdout",
     "output_type": "stream",
     "text": [
      "name is:mohit,salary is20000and email is: mohit@123\n"
     ]
    }
   ],
   "source": [
    "class Person():\n",
    "    def __init__(self,name):\n",
    "        self.name = name\n",
    "    \n",
    "    def show(self):\n",
    "        return self.name\n",
    "\n",
    "class Job():\n",
    "    def __init__(self,salary):\n",
    "        self.salary=salary\n",
    "    \n",
    "    def sal(self):\n",
    "        return self.salary\n",
    "\n",
    "\n",
    "class Email():\n",
    "    def __init__(self,mail):\n",
    "        self.mail=mail\n",
    "\n",
    "class Employee(Person):\n",
    "    def __init__(self,name,salary):\n",
    "        self.salary=salary\n",
    "        super().__init__(name)# super keyword is used to access methods of parent class\n",
    "\n",
    "class Employeeonjob(Employee,Job,Email):\n",
    "    def __init__(self ,name, salary,mail):\n",
    "        Employee.__init__(self,name,salary)\n",
    "        Job.__init__(self,salary)\n",
    "        Email.__init__(self,mail)\n",
    "\n",
    "    def details(self):\n",
    "        print(f\"name is:{self.name},salary is{self.salary}and email is: {self.mail}\")\n",
    "\n",
    "class Email():\n",
    "    def __init__(self,mail):\n",
    "        self.mail=mail\n",
    "\n",
    "\n",
    "c1=Employeeonjob(\"mohit\",20000,\"mohit@123\")\n",
    "c1.details()\n"
   ]
  },
  {
   "cell_type": "code",
   "execution_count": null,
   "id": "abd83df3",
   "metadata": {},
   "outputs": [],
   "source": []
  }
 ],
 "metadata": {
  "kernelspec": {
   "display_name": "Python 3",
   "language": "python",
   "name": "python3"
  },
  "language_info": {
   "codemirror_mode": {
    "name": "ipython",
    "version": 3
   },
   "file_extension": ".py",
   "mimetype": "text/x-python",
   "name": "python",
   "nbconvert_exporter": "python",
   "pygments_lexer": "ipython3",
   "version": "3.11.9"
  }
 },
 "nbformat": 4,
 "nbformat_minor": 5
}
