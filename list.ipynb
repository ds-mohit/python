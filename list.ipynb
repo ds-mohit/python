{
 "cells": [
  {
   "cell_type": "markdown",
   "id": "b933bb28",
   "metadata": {},
   "source": [
    "#list"
   ]
  },
  {
   "cell_type": "code",
   "execution_count": 1,
   "id": "0c96183a",
   "metadata": {},
   "outputs": [
    {
     "name": "stdout",
     "output_type": "stream",
     "text": [
      "Hello World\n"
     ]
    }
   ],
   "source": [
    "print(\"Hello World\")"
   ]
  },
  {
   "cell_type": "code",
   "execution_count": 2,
   "id": "a3fa3f6e",
   "metadata": {},
   "outputs": [
    {
     "name": "stdout",
     "output_type": "stream",
     "text": [
      "<class 'list'>\n",
      "[1, 2]\n"
     ]
    }
   ],
   "source": [
    "lst=[1,2,\"hello\",3.5,True]\n",
    "print(type(lst))\n",
    "print(lst[0:2])"
   ]
  },
  {
   "cell_type": "code",
   "execution_count": 3,
   "id": "4b701099",
   "metadata": {},
   "outputs": [
    {
     "name": "stdout",
     "output_type": "stream",
     "text": [
      "[1, 2, 'hello', 3.5, True]\n",
      "[1, 2, 'hello', 3.5]\n",
      "2\n"
     ]
    }
   ],
   "source": [
    "lst=[1,2,\"hello\",3.5,True]\n",
    "print(lst)\n",
    "print(lst[0:4])\n",
    "print(lst[1])\n"
   ]
  },
  {
   "cell_type": "code",
   "execution_count": 4,
   "id": "fe1b8887",
   "metadata": {},
   "outputs": [
    {
     "name": "stdout",
     "output_type": "stream",
     "text": [
      "[1, 2, 'hy', 3.5, True]\n"
     ]
    }
   ],
   "source": [
    "lst[2]=\"hy\"\n",
    "print(lst)"
   ]
  },
  {
   "cell_type": "code",
   "execution_count": 5,
   "id": "f51c3374",
   "metadata": {},
   "outputs": [
    {
     "name": "stdout",
     "output_type": "stream",
     "text": [
      "[9, 8, 7, 'hy', 3.5, True]\n"
     ]
    }
   ],
   "source": [
    "lst[0:2]=[9,8,7]\n",
    "print(lst)"
   ]
  },
  {
   "cell_type": "code",
   "execution_count": 6,
   "id": "ec2de924",
   "metadata": {},
   "outputs": [
    {
     "name": "stdout",
     "output_type": "stream",
     "text": [
      "[5, 8, 7, 'hy', 3.5, True]\n"
     ]
    }
   ],
   "source": [
    "lst[0:1]=[5]\n",
    "print(lst)"
   ]
  },
  {
   "cell_type": "code",
   "execution_count": 7,
   "id": "9a39a5f4",
   "metadata": {},
   "outputs": [
    {
     "name": "stdout",
     "output_type": "stream",
     "text": [
      "True\n"
     ]
    }
   ],
   "source": [
    "print(lst[-1])"
   ]
  },
  {
   "cell_type": "code",
   "execution_count": 8,
   "id": "6109af80",
   "metadata": {},
   "outputs": [
    {
     "data": {
      "text/plain": [
       "[1, 2, 3, 8, 7, 'hy', 3.5, True]"
      ]
     },
     "execution_count": 8,
     "metadata": {},
     "output_type": "execute_result"
    }
   ],
   "source": [
    "lst[0:1]=[1,2,3]\n",
    "lst\n"
   ]
  },
  {
   "cell_type": "code",
   "execution_count": 9,
   "id": "3c0d98d0",
   "metadata": {},
   "outputs": [
    {
     "data": {
      "text/plain": [
       "[10, 20, [30, 40, [50, 6000], 70], 80]"
      ]
     },
     "execution_count": 9,
     "metadata": {},
     "output_type": "execute_result"
    }
   ],
   "source": [
    "lst=[10,20,[30,40,[50,60],70],80]\n",
    "lst[2][2][1]=6000;lst\n"
   ]
  },
  {
   "cell_type": "code",
   "execution_count": 10,
   "id": "52881c8f",
   "metadata": {},
   "outputs": [
    {
     "data": {
      "text/plain": [
       "3"
      ]
     },
     "execution_count": 10,
     "metadata": {},
     "output_type": "execute_result"
    }
   ],
   "source": [
    "lst1=[1,2,3,4,5,2,1,3]\n",
    "lst1.count(1) # This line has a syntax error, should be lst1.count(1)\n",
    "lst2=['a','b','c','d','a','a','c']\n",
    "lst2.count('a')  # This line has a syntax error, should be lst2.count('a')"
   ]
  },
  {
   "cell_type": "code",
   "execution_count": 11,
   "id": "c65c2a7f",
   "metadata": {},
   "outputs": [
    {
     "data": {
      "text/plain": [
       "[1, 2, 3, 4, 5]"
      ]
     },
     "execution_count": 11,
     "metadata": {},
     "output_type": "execute_result"
    }
   ],
   "source": [
    "lst3=[1,2,3,4,5]\n",
    "lst4=lst3.copy()\n",
    "lst4\n"
   ]
  },
  {
   "cell_type": "code",
   "execution_count": 12,
   "id": "43c42781",
   "metadata": {},
   "outputs": [
    {
     "name": "stdout",
     "output_type": "stream",
     "text": [
      "[]\n"
     ]
    }
   ],
   "source": [
    "lst5=[1,2,3,4,5]\n",
    "del lst5[:]# This line has a syntax error, should be del lst5[:]\n",
    "print(lst5)\n",
    "lst = [1, 2, 3, 4, 5]\n",
    "del lst\n",
    "# Now, lst is undefined. Accessing lst will raise a NameError.\n",
    "\n"
   ]
  },
  {
   "cell_type": "code",
   "execution_count": 13,
   "id": "0ba81786",
   "metadata": {},
   "outputs": [
    {
     "name": "stdout",
     "output_type": "stream",
     "text": [
      "[]\n"
     ]
    }
   ],
   "source": [
    "lst = [1, 2, 3, 4, 5]\n",
    "lst.clear()\n",
    "print(lst)  # Output: []\n"
   ]
  },
  {
   "cell_type": "code",
   "execution_count": null,
   "id": "1da0659d",
   "metadata": {},
   "outputs": [
    {
     "data": {
      "text/plain": [
       "['apple', 'mango', 'banana', 'kiwi', 'a']"
      ]
     },
     "execution_count": 8,
     "metadata": {},
     "output_type": "execute_result"
    }
   ],
   "source": [
    "lst6=['apple','mango','banana','kiwi']\n",
    "lst6.insert(2,'orange')  # This line has a syntax error, should be lst6.insert(2, 'orange')\n",
    "lst6\n",
    "lst6.remove('orange')\n",
    "lst6\n",
    "lst6.extend(['a','b'])\n",
    "lst6\n",
    "lst6.pop(5)\n",
    "lst6\n",
    "\n",
    "\n",
    "\n"
   ]
  },
  {
   "cell_type": "code",
   "execution_count": null,
   "id": "817cd8eb",
   "metadata": {},
   "outputs": [
    {
     "data": {
      "text/plain": [
       "['kiwi', 'banana', 'mango', 'apple']"
      ]
     },
     "execution_count": 13,
     "metadata": {},
     "output_type": "execute_result"
    }
   ],
   "source": [
    "lst6=['apple','mango','banana','kiwi']\n",
    "# lst6.sort(reverse=True)#reverse by alphabetic order\n",
    "# lst6\n",
    "#without alphabetic order\n",
    "# lst6.reverse()\n",
    "# print(lst6)\n",
    "lst6[::-1]#reverse by slicing without reverse function"
   ]
  },
  {
   "cell_type": "code",
   "execution_count": null,
   "id": "595bed28",
   "metadata": {},
   "outputs": [],
   "source": []
  }
 ],
 "metadata": {
  "kernelspec": {
   "display_name": "Python 3",
   "language": "python",
   "name": "python3"
  },
  "language_info": {
   "codemirror_mode": {
    "name": "ipython",
    "version": 3
   },
   "file_extension": ".py",
   "mimetype": "text/x-python",
   "name": "python",
   "nbconvert_exporter": "python",
   "pygments_lexer": "ipython3",
   "version": "3.11.9"
  }
 },
 "nbformat": 4,
 "nbformat_minor": 5
}
