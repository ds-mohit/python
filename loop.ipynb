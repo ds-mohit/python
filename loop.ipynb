{
 "cells": [
  {
   "cell_type": "markdown",
   "id": "d96cf8b8",
   "metadata": {},
   "source": [
    "# ConditionL statements\n"
   ]
  },
  {
   "cell_type": "code",
   "execution_count": 7,
   "id": "55d20a6b",
   "metadata": {},
   "outputs": [
    {
     "name": "stdout",
     "output_type": "stream",
     "text": [
      "a is greater then b\n"
     ]
    }
   ],
   "source": [
    "a=10\n",
    "b=5\n",
    "if a<b:\n",
    "    print(\"a is less than b\")\n",
    "elif a==b:\n",
    "    print(\"a is equal to b\")    \n",
    "else:\n",
    "    print(\"a is greater then b\")"
   ]
  },
  {
   "cell_type": "code",
   "execution_count": 8,
   "id": "c8ac300b",
   "metadata": {},
   "outputs": [
    {
     "name": "stdout",
     "output_type": "stream",
     "text": [
      "Positive number\n"
     ]
    }
   ],
   "source": [
    "a=int(input(\"Enter a number: \"))\n",
    "if a<0:\n",
    "    print(\"Negative number\")\n",
    "elif a==0:\n",
    "    print(\"Zero\")\n",
    "else: \n",
    "    print(\"Positive number\")\n",
    "    "
   ]
  },
  {
   "cell_type": "code",
   "execution_count": 14,
   "id": "aeb63a98",
   "metadata": {},
   "outputs": [
    {
     "name": "stdout",
     "output_type": "stream",
     "text": [
      "Number is not divisible by 5 and 7\n"
     ]
    }
   ],
   "source": [
    "a=int(input(\"Enter a number:\"))\n",
    "if a%5==0 and a%7==0:\n",
    "    print(\"Number is divisible by 5 and 7\")\n",
    "else:\n",
    "    print(\"Number is not divisible by 5 and 7\")\n",
    "    "
   ]
  },
  {
   "cell_type": "code",
   "execution_count": 15,
   "id": "a5e8727d",
   "metadata": {},
   "outputs": [
    {
     "name": "stdout",
     "output_type": "stream",
     "text": [
      "Not a leap year\n"
     ]
    }
   ],
   "source": [
    "b=int(input(\"Enter a number:\"))\n",
    "if b%4==0 and b%100!=0 or b%400==0:\n",
    "    print(\"Leap year\")  \n",
    "else:\n",
    "    print(\"Not a leap year\")\n",
    "    "
   ]
  },
  {
   "cell_type": "markdown",
   "id": "12031887",
   "metadata": {},
   "source": [
    "# Loop->while and for"
   ]
  },
  {
   "cell_type": "code",
   "execution_count": 63,
   "id": "71fb5451",
   "metadata": {},
   "outputs": [
    {
     "name": "stdout",
     "output_type": "stream",
     "text": [
      "1 2 3 4 1 2 3 4 6 7 8 9 10 "
     ]
    }
   ],
   "source": [
    "# a=1\n",
    "# while a<=5:\n",
    "#     print(a,end=' ')\n",
    "#     a+=1\n",
    "# print()\n",
    "\n",
    "# a=5\n",
    "# while a>=1:\n",
    "#     print(a,end=' ')\n",
    "#     a-=1  \n",
    "\n",
    "c = 1\n",
    "while c <= 10:\n",
    "    if c == 5:\n",
    "        break\n",
    "    print(c, end=' ')\n",
    "    c += 1\n",
    "\n",
    "d = 1\n",
    "while d <= 10:  \n",
    "    if d == 5:\n",
    "        d += 1\n",
    "        continue\n",
    "    print(d, end=' ')\n",
    "    d += 1"
   ]
  },
  {
   "cell_type": "code",
   "execution_count": 23,
   "id": "f1036221",
   "metadata": {},
   "outputs": [
    {
     "name": "stdout",
     "output_type": "stream",
     "text": [
      "1\n",
      "2\n",
      "3\n",
      "4\n",
      "5\n",
      "apple banana cherry \n",
      "H e l l o "
     ]
    }
   ],
   "source": [
    "for i in range(1, 6): # for is used to iterate over a sequence(list, tuple, dictionary, set, or string)\n",
    "    print(i) #here i is the temp variable that takes the value of each element in the sequence\n",
    "\n",
    "fruits = [\"apple\", \"banana\", \"cherry\"]\n",
    "for x in fruits:\n",
    "    print(x,end=\" \")\n",
    "print()\n",
    "\n",
    "str=\"Hello\"\n",
    "for i in str:\n",
    "    print(i,end=\" \")"
   ]
  },
  {
   "cell_type": "code",
   "execution_count": 33,
   "id": "26014183",
   "metadata": {},
   "outputs": [
    {
     "name": "stdout",
     "output_type": "stream",
     "text": [
      "name : Alice age : 25 city : New York "
     ]
    }
   ],
   "source": [
    "dict = {\"name\": \"Alice\", \"age\": 25, \"city\": \"New York\"}\n",
    "for k in dict.items():\n",
    "    # Using k as a tuple (key, value)\n",
    "    #print(k, end=\" \")\n",
    "    print(k[0], \":\", k[1], end=\" \")\n",
    "    #print(k, \":\", dict[k], end=\" \")\n",
    "    #print(dict.items(), end=\" \")\n"
   ]
  },
  {
   "cell_type": "code",
   "execution_count": 46,
   "id": "bfca90a7",
   "metadata": {},
   "outputs": [
    {
     "name": "stdout",
     "output_type": "stream",
     "text": [
      "1 . apple\n",
      "1 . Banana\n",
      "1 . Cherry\n",
      "2 . apple\n",
      "2 . Banana\n",
      "2 . Cherry\n",
      "3 . apple\n",
      "3 . Banana\n",
      "3 . Cherry\n",
      "4 . apple\n",
      "4 . Banana\n",
      "4 . Cherry\n",
      "5 . apple\n",
      "5 . Banana\n",
      "5 . Cherry\n",
      "\n"
     ]
    }
   ],
   "source": [
    "lst1= [1, 2, 3, 4, 5]\n",
    "lst=[\"apple\",\"Banana\",\"Cherry\"]\n",
    "for i in lst1:\n",
    "    for j in lst:\n",
    "        print(i,\".\" ,j)\n",
    "print()\n",
    "    \n"
   ]
  },
  {
   "cell_type": "markdown",
   "id": "1237a0d0",
   "metadata": {},
   "source": [
    "# Break and Continue\n"
   ]
  },
  {
   "cell_type": "code",
   "execution_count": 43,
   "id": "c017de8c",
   "metadata": {},
   "outputs": [
    {
     "name": "stdout",
     "output_type": "stream",
     "text": [
      "1 2 3 4 "
     ]
    }
   ],
   "source": [
    "for i in range(1,11):\n",
    "    if i==5:\n",
    "        break\n",
    "    print(i, end=\" \")"
   ]
  },
  {
   "cell_type": "code",
   "execution_count": 48,
   "id": "0a1aeb55",
   "metadata": {},
   "outputs": [
    {
     "name": "stdout",
     "output_type": "stream",
     "text": [
      "1 2 3 4 6 7 8 9 10 "
     ]
    }
   ],
   "source": [
    "for i in range(1,11):\n",
    "    if i==5:\n",
    "        continue\n",
    "    print(i, end=\" \")"
   ]
  },
  {
   "cell_type": "code",
   "execution_count": 49,
   "id": "e5e43d3c",
   "metadata": {},
   "outputs": [],
   "source": [
    "#pass is used when you want to write a function or a class but don't want to implement it yet\n",
    "#it does not give any error but does nothing\n",
    "for i in range(1,11):\n",
    "    if i==5:\n",
    "        pass\n",
    "    "
   ]
  },
  {
   "cell_type": "code",
   "execution_count": 54,
   "id": "f6926403",
   "metadata": {},
   "outputs": [
    {
     "name": "stdout",
     "output_type": "stream",
     "text": [
      "[1, 4, 9, 16, 25]\n"
     ]
    }
   ],
   "source": [
    "lst = [1, 2, 3, 4, 5]\n",
    "lst1 = []\n",
    "for i in lst:\n",
    "    lst1.append(i**2)\n",
    "print(lst1)\n",
    "\n"
   ]
  },
  {
   "cell_type": "code",
   "execution_count": null,
   "id": "5f8e4563",
   "metadata": {},
   "outputs": [],
   "source": []
  }
 ],
 "metadata": {
  "kernelspec": {
   "display_name": "Python 3",
   "language": "python",
   "name": "python3"
  },
  "language_info": {
   "codemirror_mode": {
    "name": "ipython",
    "version": 3
   },
   "file_extension": ".py",
   "mimetype": "text/x-python",
   "name": "python",
   "nbconvert_exporter": "python",
   "pygments_lexer": "ipython3",
   "version": "3.11.9"
  }
 },
 "nbformat": 4,
 "nbformat_minor": 5
}
