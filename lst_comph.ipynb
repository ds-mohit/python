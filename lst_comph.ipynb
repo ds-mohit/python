{
 "cells": [
  {
   "cell_type": "markdown",
   "id": "104c2c09",
   "metadata": {},
   "source": [
    "# List Comphrehension"
   ]
  },
  {
   "cell_type": "code",
   "execution_count": 2,
   "id": "c4198b29",
   "metadata": {},
   "outputs": [
    {
     "name": "stdout",
     "output_type": "stream",
     "text": [
      "[0, 4, 16, 36, 64]\n"
     ]
    }
   ],
   "source": [
    "# list comphrehension is a concise way to create lists\n",
    "# from an existing iterable (like a list, tuple, or string).\n",
    "# It consists of brackets containing an expression followed by a for clause,\n",
    "# and can also include optional if clauses to filter items.\n",
    "\n",
    "# Example: Create a list of squares of even numbers from 0 to 9\n",
    "squares_of_evens = [x**2 for x in range(10) if x % 2 == 0]\n",
    "print(squares_of_evens)  # Output: [0, 4, 16, 36, 64]\n"
   ]
  },
  {
   "cell_type": "code",
   "execution_count": 5,
   "id": "405d22ec",
   "metadata": {},
   "outputs": [
    {
     "name": "stdout",
     "output_type": "stream",
     "text": [
      "['H', 'E', 'L', 'L', 'O', ' ', 'W', 'O', 'R', 'L', 'D']\n"
     ]
    }
   ],
   "source": [
    "#to convert string in to uppercase using list comprehension\n",
    "def to_uppercase(input_string):\n",
    "    return [char.upper() for char in input_string]\n",
    "to_uppercase_result = to_uppercase(\"hello world\")\n",
    "print(to_uppercase_result)  # Output: ['H', 'E', 'L', 'L', 'O', ' ', 'W', 'O', 'R', 'L', 'D']\n",
    "# Example: Create a list of tuples (number, square) for numbers 0 to 4\n"
   ]
  },
  {
   "cell_type": "code",
   "execution_count": null,
   "id": "bc99b366",
   "metadata": {},
   "outputs": [
    {
     "name": "stdout",
     "output_type": "stream",
     "text": [
      "[10, 20, 30, 60]\n"
     ]
    }
   ],
   "source": [
    "lst=[10,20,30,55,60,77,85]\n",
    "def even_num(lst):\n",
    "    return [x for x in lst if x % 2 == 0]\n",
    "even_numbers = even_num(lst)\n",
    "print(even_numbers)  # Output: [10, 20, 30, 60]\n"
   ]
  },
  {
   "cell_type": "code",
   "execution_count": 10,
   "id": "e59c38bf",
   "metadata": {},
   "outputs": [
    {
     "name": "stdout",
     "output_type": "stream",
     "text": [
      "['violet', 'indigo', 'brown', 'green', 'yellow', 'orange', 'red']\n"
     ]
    }
   ],
   "source": [
    "#create a  new list that contains the first word of the given list\n",
    "\n",
    "def first_words(list):\n",
    "    return [word.split()[0] for word in list if word]  # Check if word is not empty\n",
    "list = [\"violet\",\"indigo\",\"brown\",\"green\",\"yellow\",\"orange\",\"red\"]\n",
    "result = first_words(list)\n",
    "print(result)  # Output: ['violet', 'indigo', 'brown', 'green', 'yellow', 'orange', 'red']"
   ]
  },
  {
   "cell_type": "code",
   "execution_count": null,
   "id": "467c9da9",
   "metadata": {},
   "outputs": [],
   "source": []
  }
 ],
 "metadata": {
  "kernelspec": {
   "display_name": "Python 3",
   "language": "python",
   "name": "python3"
  },
  "language_info": {
   "codemirror_mode": {
    "name": "ipython",
    "version": 3
   },
   "file_extension": ".py",
   "mimetype": "text/x-python",
   "name": "python",
   "nbconvert_exporter": "python",
   "pygments_lexer": "ipython3",
   "version": "3.11.9"
  }
 },
 "nbformat": 4,
 "nbformat_minor": 5
}
