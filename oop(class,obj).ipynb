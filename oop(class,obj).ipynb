{
 "cells": [
  {
   "cell_type": "markdown",
   "id": "5afad248",
   "metadata": {},
   "source": [
    "# OOP"
   ]
  },
  {
   "cell_type": "code",
   "execution_count": null,
   "id": "71f4472f",
   "metadata": {},
   "outputs": [],
   "source": [
    "#class ,object and methods\n",
    "#four pillars of oops are inheritance,polymorphism,encapsulation and abstraction\n",
    "# but in this we will study inheritance , polymorphism and abstraction\n",
    "# class -> blueprint of object\n",
    "# object -> instance of class"
   ]
  },
  {
   "cell_type": "code",
   "execution_count": null,
   "id": "f95ce701",
   "metadata": {},
   "outputs": [
    {
     "name": "stdout",
     "output_type": "stream",
     "text": [
      "50\n",
      "Car name: Audi\n",
      "Car model: Q7\n",
      "Car year: 2025\n"
     ]
    }
   ],
   "source": [
    "class Car:\n",
    "    #class variables\n",
    "    name=\"Audi\"\n",
    "    model=\"Q7\"\n",
    "    year=2025\n",
    "    num1=20\n",
    "    num2=30\n",
    "\n",
    "    def add(self):#self is used to access methods and properties in class \n",
    "        return self.num1 +self.num2\n",
    "    \n",
    "    def display(self):\n",
    "        print(\"Car name:\",self.name)\n",
    "        print(\"Car model:\",self.model)\n",
    "        print(\"Car year:\",self.year)\n",
    "\n",
    "c1=Car()\n",
    "c2=c1.add()\n",
    "print(c2)\n",
    "c1.display()\n",
    "\n"
   ]
  },
  {
   "cell_type": "code",
   "execution_count": 6,
   "id": "9c4d6ecd",
   "metadata": {},
   "outputs": [
    {
     "name": "stdout",
     "output_type": "stream",
     "text": [
      "50\n",
      "AudiQ7\n"
     ]
    }
   ],
   "source": [
    "class Car:\n",
    "    #class variables\n",
    "    name=\"Audi\"\n",
    "    model=\"Q7\"\n",
    "    year=2025\n",
    "    num1=20\n",
    "    num2=30\n",
    "\n",
    "    def add(self):\n",
    "        return self.num1 +self.num2\n",
    "    \n",
    "    def display(self):\n",
    "        return self.name + self.model\n",
    "\n",
    "c1=Car()\n",
    "c2=c1.add()\n",
    "print(c2)\n",
    "c3=c1.display()\n",
    "print(c3)\n",
    "\n"
   ]
  },
  {
   "cell_type": "code",
   "execution_count": 1,
   "id": "fe61185a",
   "metadata": {},
   "outputs": [
    {
     "data": {
      "text/plain": [
       "('Audi', 'Q7')"
      ]
     },
     "execution_count": 1,
     "metadata": {},
     "output_type": "execute_result"
    }
   ],
   "source": [
    "class Car:\n",
    "    #class variables\n",
    "    name=\"Audi\",\n",
    "    model=\"Q7\",\n",
    "    year=2025\n",
    "    num1=20\n",
    "    num2=30\n",
    "\n",
    "    def add(self):\n",
    "        return self.num1 +self.num2\n",
    "    \n",
    "    def display(self):\n",
    "        return self.name + self.model\n",
    "\n",
    "c1=Car()\n",
    "c1.add()\n",
    "c1.display()\n"
   ]
  },
  {
   "cell_type": "code",
   "execution_count": 4,
   "id": "5126f539",
   "metadata": {},
   "outputs": [
    {
     "name": "stdout",
     "output_type": "stream",
     "text": [
      "Animal name is:Dog and age is:5\n"
     ]
    }
   ],
   "source": [
    "class Animal:\n",
    "    def __init__(self,name,age):\n",
    "        self.name=name\n",
    "        self.age=age\n",
    "    def display(self):\n",
    "        # print(\"Animal name:\",self.name)\n",
    "        # print(\"Animal age:\",self.age)\n",
    "        print(f\"Animal name is:{self.name} and age is:{self.age}\")\n",
    "a1=Animal(\"Dog\",5)\n",
    "a1.display()\n"
   ]
  },
  {
   "cell_type": "code",
   "execution_count": 7,
   "id": "948fba39",
   "metadata": {},
   "outputs": [
    {
     "name": "stdout",
     "output_type": "stream",
     "text": [
      "('Dog', 5)\n"
     ]
    }
   ],
   "source": [
    "class Animal:\n",
    "    def __init__(self,name,age):\n",
    "        self.name=name\n",
    "        self.age=age\n",
    "    def display(self):\n",
    "        return self.name , self.age\n",
    "a1=Animal(\"Dog\",5)\n",
    "print(a1.display())\n"
   ]
  },
  {
   "cell_type": "code",
   "execution_count": null,
   "id": "5ff385c2",
   "metadata": {},
   "outputs": [],
   "source": []
  }
 ],
 "metadata": {
  "kernelspec": {
   "display_name": "Python 3",
   "language": "python",
   "name": "python3"
  },
  "language_info": {
   "codemirror_mode": {
    "name": "ipython",
    "version": 3
   },
   "file_extension": ".py",
   "mimetype": "text/x-python",
   "name": "python",
   "nbconvert_exporter": "python",
   "pygments_lexer": "ipython3",
   "version": "3.11.9"
  }
 },
 "nbformat": 4,
 "nbformat_minor": 5
}
