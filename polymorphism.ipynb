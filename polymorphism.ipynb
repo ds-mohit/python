{
 "cells": [
  {
   "cell_type": "markdown",
   "id": "99908267",
   "metadata": {},
   "source": [
    "# Polymorphism\n",
    "##### Many forms ->the same function or method behave differently based on the input\n",
    "\n"
   ]
  },
  {
   "cell_type": "code",
   "execution_count": 7,
   "id": "096527e5",
   "metadata": {},
   "outputs": [
    {
     "name": "stdout",
     "output_type": "stream",
     "text": [
      "Meow\n",
      "Bark\n",
      "Meow\n"
     ]
    }
   ],
   "source": [
    "class Cat():\n",
    "    def sound(self):\n",
    "        return \"Meow\"\n",
    "\n",
    "class Dog():\n",
    "    def sound(self):\n",
    "        return \"Bark\"\n",
    "    \n",
    "def animal_sound(animal):\n",
    "    return animal.sound()\n",
    "\n",
    "c1=Cat()\n",
    "d1=Dog()\n",
    "print(c1.sound())\n",
    "print(d1.sound())\n",
    "print(animal_sound(c1))\n",
    "\n",
    "\n"
   ]
  },
  {
   "cell_type": "code",
   "execution_count": 10,
   "id": "3f841fe7",
   "metadata": {},
   "outputs": [
    {
     "name": "stdout",
     "output_type": "stream",
     "text": [
      "78.5\n"
     ]
    }
   ],
   "source": [
    "class Rectangle():\n",
    "    def area(self,l,b):\n",
    "        return l*b\n",
    "\n",
    "class Square():\n",
    "    def area(self,l):\n",
    "        return L*l\n",
    "\n",
    "class Circle():\n",
    "    def area(self ,r):\n",
    "        return 3.14*r*r\n",
    "\n",
    "def shape_show(shape,*args):\n",
    "    return shape.area(*args)\n",
    "\n",
    "c1=Circle()\n",
    "c2=Rectangle()\n",
    "c3=Square()\n",
    "print(shape_show(c1,5))"
   ]
  },
  {
   "cell_type": "code",
   "execution_count": 13,
   "id": "ea2dd755",
   "metadata": {},
   "outputs": [
    {
     "name": "stdout",
     "output_type": "stream",
     "text": [
      "78.5\n",
      "24\n",
      "25\n"
     ]
    }
   ],
   "source": [
    "# class Shape:\n",
    "#     def area(self, dims):\n",
    "#         pass  # abstract method\n",
    "\n",
    "class Rectangle(Shape):\n",
    "    def area(self, dims):\n",
    "        l, b = dims\n",
    "        return l * b\n",
    "\n",
    "class Square(Shape):\n",
    "    def area(self, dims):\n",
    "        l = dims[0]\n",
    "        return l * l\n",
    "\n",
    "\n",
    "class Circle(Shape):\n",
    "    def area(self, dims):\n",
    "        r = dims[0]\n",
    "        return 3.14 * r * r\n",
    "\n",
    "def shape_show(shape, dims):\n",
    "    return shape.area(dims)\n",
    "\n",
    "# Examples\n",
    "c1 = Circle()\n",
    "c2 = Rectangle()\n",
    "c3 = Square()\n",
    "\n",
    "print(shape_show(c1, (5,)))      # Circle with radius 5 → 78.5\n",
    "print(shape_show(c2, (4, 6)))    # Rectangle 4×6 → 24\n",
    "print(shape_show(c3, (5,)))      # Square with side 5 → 25\n"
   ]
  },
  {
   "cell_type": "code",
   "execution_count": 19,
   "id": "f375c9af",
   "metadata": {},
   "outputs": [
    {
     "name": "stdout",
     "output_type": "stream",
     "text": [
      "78.5\n",
      "6\n",
      "4\n"
     ]
    }
   ],
   "source": [
    "class shape_area:\n",
    "    def area(self):\n",
    "        pass\n",
    "\n",
    "class Rectangle(shape_area):\n",
    "    def __init__(self,l,b):\n",
    "        self.l=l\n",
    "        self.b=b\n",
    "\n",
    "    def area(self):\n",
    "        return self.l*self.b\n",
    "\n",
    "class Square(shape_area):\n",
    "    def __init__(self,s):\n",
    "        self.s=s\n",
    "    def area(self):\n",
    "        return self.s*self.s\n",
    "\n",
    "class Circle(shape_area):\n",
    "    def __init__(self,r):\n",
    "        self.r=r\n",
    "    def area(self ):\n",
    "        return 3.14*self.r*self.r\n",
    "\n",
    "def shape_show(shape):\n",
    "    return shape.area()\n",
    "\n",
    "c1=Circle(5)\n",
    "c2=Rectangle(3,2)\n",
    "c3=Square(2)\n",
    "print(shape_show(c1))\n",
    "print(shape_show(c2))\n",
    "print(shape_show(c3))"
   ]
  },
  {
   "cell_type": "code",
   "execution_count": null,
   "id": "e8e0946e",
   "metadata": {},
   "outputs": [],
   "source": []
  }
 ],
 "metadata": {
  "kernelspec": {
   "display_name": "Python 3",
   "language": "python",
   "name": "python3"
  },
  "language_info": {
   "codemirror_mode": {
    "name": "ipython",
    "version": 3
   },
   "file_extension": ".py",
   "mimetype": "text/x-python",
   "name": "python",
   "nbconvert_exporter": "python",
   "pygments_lexer": "ipython3",
   "version": "3.11.9"
  }
 },
 "nbformat": 4,
 "nbformat_minor": 5
}
