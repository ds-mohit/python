{
 "cells": [
  {
   "cell_type": "markdown",
   "id": "68d3b42b",
   "metadata": {},
   "source": [
    "# Module , package and library"
   ]
  },
  {
   "cell_type": "markdown",
   "id": "60a133e3",
   "metadata": {},
   "source": [
    "#### module ha jo kisika likha hua hai and ham une reuse karte hai e.g. python file\n",
    "#### package is a directory which contains multiple modules\n",
    "#### library is like a bag which contains modules and packages\n"
   ]
  },
  {
   "cell_type": "markdown",
   "id": "286ff04d",
   "metadata": {},
   "source": [
    "### Lambda Function"
   ]
  },
  {
   "cell_type": "code",
   "execution_count": null,
   "id": "2734508c",
   "metadata": {},
   "outputs": [
    {
     "data": {
      "text/plain": [
       "13"
      ]
     },
     "execution_count": 4,
     "metadata": {},
     "output_type": "execute_result"
    }
   ],
   "source": [
    "#lambda function\n",
    "#lambda_function name=lambda arguments: expression\n",
    "# Example of a lambda function that squares a number\n",
    "square = lambda x: x ** 2\n",
    "square(5)\n",
    "\n",
    "add=lambda x,y:x+y;add(3,10)"
   ]
  },
  {
   "cell_type": "markdown",
   "id": "c5ae543a",
   "metadata": {},
   "source": [
    "### Map function"
   ]
  },
  {
   "cell_type": "code",
   "execution_count": 6,
   "id": "18e3d6dc",
   "metadata": {},
   "outputs": [
    {
     "name": "stdout",
     "output_type": "stream",
     "text": [
      "[1, 4, 9, 16, 25]\n",
      "[1, 4, 9]\n"
     ]
    }
   ],
   "source": [
    "def square(x):\n",
    "    return x*x\n",
    "\n",
    "lst=[1,2,3,4,5]\n",
    "result=map(square,lst)\n",
    "print(list(result))#we have to do type casting to get the result in list format\n",
    "#otherwise it will give a map object\n",
    "\n",
    "num=[1,2,3]\n",
    "square=list(map(lambda x: x**2,num))\n",
    "print(square)"
   ]
  },
  {
   "cell_type": "markdown",
   "id": "7e8a3ba8",
   "metadata": {},
   "source": [
    "#### Filter function"
   ]
  },
  {
   "cell_type": "code",
   "execution_count": null,
   "id": "1f04fceb",
   "metadata": {},
   "outputs": [],
   "source": [
    "num=[1,2,3,4,5,6,7]\n",
    "even=list(filter(lambda x: x%2==0,num))\n",
    "print(even)"
   ]
  },
  {
   "cell_type": "markdown",
   "id": "2a250591",
   "metadata": {},
   "source": [
    "#### Reduce function"
   ]
  },
  {
   "cell_type": "code",
   "execution_count": null,
   "id": "21da3d4a",
   "metadata": {},
   "outputs": [
    {
     "name": "stdout",
     "output_type": "stream",
     "text": [
      "24\n"
     ]
    }
   ],
   "source": [
    "from functools import reduce\n",
    "num=[1,2,3,4]\n",
    "product=reduce(lambda x,y:x*y,num)#it work from left to right 1. it will take first \n",
    "#two elements from left and do function then it will take the result and next element and do the function\n",
    "# so it will be like (((1*2)*3)*4)\n",
    "print(product)"
   ]
  },
  {
   "cell_type": "markdown",
   "id": "a64159a9",
   "metadata": {},
   "source": [
    "#### enumerate function"
   ]
  },
  {
   "cell_type": "code",
   "execution_count": null,
   "id": "b5d05e42",
   "metadata": {},
   "outputs": [
    {
     "name": "stdout",
     "output_type": "stream",
     "text": [
      "0 apple\n",
      "1 banana\n",
      "2 cherry\n",
      "[(0, 'apple'), (1, 'banana'), (2, 'cherry')]\n",
      "[(5, 'apple'), (6, 'banana'), (7, 'cherry')]\n"
     ]
    }
   ],
   "source": [
    "fruits=[\"apple\",'banana','cherry'] # it will give index and value of the list\n",
    "for i,fruit in enumerate(fruits):\n",
    "    print(i,fruit)\n",
    "\n",
    "fruits=[\"apple\",'banana','cherry']\n",
    "result=enumerate(fruits)\n",
    "print(list(result))#it will give a enumerate object so we have to do type casting to get the result in list format\n",
    "\n",
    "fruits=[\"apple\",'banana','cherry']\n",
    "result=enumerate(fruits,start=5)#start will start indexing from 5\n",
    "print(list(result))"
   ]
  },
  {
   "cell_type": "markdown",
   "id": "e4db434c",
   "metadata": {},
   "source": [
    "#### Zip Function"
   ]
  },
  {
   "cell_type": "code",
   "execution_count": 11,
   "id": "f4b96dbd",
   "metadata": {},
   "outputs": [
    {
     "name": "stdout",
     "output_type": "stream",
     "text": [
      "[('ram', 90), ('shyam', 85), ('mohan', 88), ('hari', 92)]\n",
      "('ram', 'shyam', 'mohan', 'hari')\n",
      "(90, 85, 88, 92)\n",
      "['ram', 'shyam', 'mohan', 'hari']\n",
      "[90, 85, 88, 92]\n"
     ]
    }
   ],
   "source": [
    "names=[\"ram\",\"shyam\",\"mohan\",\"hari\"]\n",
    "scores=(90,85,88,92)\n",
    "combined=list(zip(names,scores))\n",
    "print(combined)\n",
    "\n",
    "#unzipping the values\n",
    "names,scores=zip(*combined)\n",
    "print(names)\n",
    "print(scores)\n",
    "#or\n",
    "zipped=[(\"ram\",90),(\"shyam\",85),(\"mohan\",88),(\"hari\",92)]\n",
    "names,scores=zip(*zipped)\n",
    "print(list(names))\n",
    "print(list(scores))"
   ]
  },
  {
   "cell_type": "code",
   "execution_count": null,
   "id": "5d312c40",
   "metadata": {},
   "outputs": [
    {
     "name": "stdout",
     "output_type": "stream",
     "text": [
      "[('a', 'b', 'c'), (1, 2, 3)]\n"
     ]
    }
   ],
   "source": [
    "d = {'a': 1, 'b': 2, 'c': 3} #dictionary example for unzipping\n",
    "items = d.items()\n",
    "unzipped = list(zip(*items))  # This will separate keys and values\n",
    "print(unzipped)  # Output: [('a', 'b', 'c'), (1, 2, 3)]\n",
    "\n"
   ]
  },
  {
   "cell_type": "code",
   "execution_count": null,
   "id": "7a40ab43",
   "metadata": {},
   "outputs": [],
   "source": [
    "#module -> o.s. ->operating system, sys -> system specific parameters and functions\n",
    "# re-> regular expression, datetime, json, csv, os, sys, math, random, collections, itertools\n",
    "#math -> to perform mathematical operations\n",
    "#third party modules -> numpy, pandas, matplotlib,, django, tensorflow, scikit-learn\n",
    "#user defined modules -> we can create our own modules"
   ]
  },
  {
   "cell_type": "markdown",
   "id": "a1d6c30f",
   "metadata": {},
   "source": [
    "# User defined modules"
   ]
  },
  {
   "cell_type": "code",
   "execution_count": null,
   "id": "381f7d40",
   "metadata": {},
   "outputs": [],
   "source": [
    "#creating own (user defined) \n",
    "from os import path #for this we create another file \"file_name.py\" in which we will define our functions\n",
    "#and then we will import those functions using from file name import defined_function \n",
    "# and we also have to create a file \"__init__.py \" for this  \n"
   ]
  },
  {
   "cell_type": "code",
   "execution_count": 14,
   "id": "5392e6b3",
   "metadata": {},
   "outputs": [
    {
     "name": "stdout",
     "output_type": "stream",
     "text": [
      "8\n"
     ]
    }
   ],
   "source": [
    "from basic import add\n",
    "print(add(3, 5))  # Assuming add is a function in basic.py that adds two numbers"
   ]
  },
  {
   "cell_type": "code",
   "execution_count": 1,
   "id": "872c8de3",
   "metadata": {},
   "outputs": [
    {
     "name": "stdout",
     "output_type": "stream",
     "text": [
      "30\n"
     ]
    }
   ],
   "source": [
    "from basic import multiply\n",
    "print(multiply(5,6))"
   ]
  },
  {
   "cell_type": "code",
   "execution_count": null,
   "id": "c483d349",
   "metadata": {},
   "outputs": [],
   "source": []
  }
 ],
 "metadata": {
  "kernelspec": {
   "display_name": "Python 3",
   "language": "python",
   "name": "python3"
  },
  "language_info": {
   "codemirror_mode": {
    "name": "ipython",
    "version": 3
   },
   "file_extension": ".py",
   "mimetype": "text/x-python",
   "name": "python",
   "nbconvert_exporter": "python",
   "pygments_lexer": "ipython3",
   "version": "3.11.9"
  }
 },
 "nbformat": 4,
 "nbformat_minor": 5
}
