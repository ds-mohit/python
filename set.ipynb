{
 "cells": [
  {
   "cell_type": "markdown",
   "id": "2a11a844",
   "metadata": {},
   "source": [
    "#sets-> unordered and unmuttable but items can be added and removed (duplicate elements get removed)\n"
   ]
  },
  {
   "cell_type": "code",
   "execution_count": null,
   "id": "708fdb4b",
   "metadata": {},
   "outputs": [
    {
     "data": {
      "text/plain": [
       "{1, 2, 3, 4}"
      ]
     },
     "execution_count": 11,
     "metadata": {},
     "output_type": "execute_result"
    }
   ],
   "source": [
    "sets={1, 2, 3}\n",
    "sets.add(4)\n",
    "# sets\n",
    "# sets.remove(2)# if we give a value that is not present, it will raise an error\n",
    "# sets\n",
    "# sets.update([5, 6])\n",
    "# sets\n",
    "# sets.discard(5)# if we give a value that is not present, it will not raise an error\n",
    "# sets\n",
    "# sets.pop()\n",
    "# sets\n",
    "sets1=sets.copy()\n",
    "sets1"
   ]
  },
  {
   "cell_type": "code",
   "execution_count": 9,
   "id": "4228c7d8",
   "metadata": {},
   "outputs": [
    {
     "name": "stdout",
     "output_type": "stream",
     "text": [
      "{1}\n",
      "{0}\n"
     ]
    }
   ],
   "source": [
    "s = {1, True}\n",
    "print(s)\n",
    "s = {0, False}\n",
    "print(s)\n",
    "\n"
   ]
  },
  {
   "cell_type": "code",
   "execution_count": 37,
   "id": "02a9f69f",
   "metadata": {},
   "outputs": [
    {
     "data": {
      "text/plain": [
       "False"
      ]
     },
     "execution_count": 37,
     "metadata": {},
     "output_type": "execute_result"
    }
   ],
   "source": [
    "set1={1, 2, 3}\n",
    "set2={1,2,3, 4, 5}  \n",
    "# set3=set1|set2  # Union of set1 and set2    \n",
    "# set3\n",
    "\n",
    "# set4=set1&set2  # Intersection of set1 and set2\n",
    "# set4\n",
    "\n",
    "# set5=set1-set2  # element of set1 that are not in set2\n",
    "# set5\n",
    "\n",
    "# set6=set1^set2  # elements that are in set1 or set2 but not both\n",
    "# set6\n",
    "\n",
    "# set7=set2.issubset(set1)  # check if set1 is a subset of set2\n",
    "# set7\n",
    "\n",
    "# set8=set1.issuperset(set2)  # check if set1 is a superset of set2(if one set contains all elements of another set)\n",
    "# set8\n",
    "\n",
    "set9=set1.isdisjoint(set2)  # check if set1 and set2 have no elements in common\n",
    "set9\n",
    "\n",
    "# set10=set1.clear()  # remove all elements from set1 \n",
    "# set10\n",
    "\n",
    "# set1.intersection_update(set2)\n",
    "# set1\n",
    "\n",
    "# set1.difference_update(set2)\n",
    "# set1\n",
    "\n",
    "# set1.symmetric_difference_update(set2)\n",
    "# set1\n",
    "\n",
    "\n",
    "\n",
    "\n"
   ]
  },
  {
   "cell_type": "code",
   "execution_count": null,
   "id": "158c51fd",
   "metadata": {},
   "outputs": [],
   "source": [
    "# "
   ]
  }
 ],
 "metadata": {
  "kernelspec": {
   "display_name": "Python 3",
   "language": "python",
   "name": "python3"
  },
  "language_info": {
   "codemirror_mode": {
    "name": "ipython",
    "version": 3
   },
   "file_extension": ".py",
   "mimetype": "text/x-python",
   "name": "python",
   "nbconvert_exporter": "python",
   "pygments_lexer": "ipython3",
   "version": "3.11.9"
  }
 },
 "nbformat": 4,
 "nbformat_minor": 5
}
