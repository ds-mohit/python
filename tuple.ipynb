{
 "cells": [
  {
   "cell_type": "markdown",
   "id": "e9772b34",
   "metadata": {},
   "source": [
    "#tuple->ordered and immutable\n"
   ]
  },
  {
   "cell_type": "code",
   "execution_count": 5,
   "id": "39844d69",
   "metadata": {},
   "outputs": [
    {
     "data": {
      "text/plain": [
       "2"
      ]
     },
     "execution_count": 5,
     "metadata": {},
     "output_type": "execute_result"
    }
   ],
   "source": [
    "tple=(\"apple\",\"banana\",\"cherry\",\"orange\")\n",
    "type(tple)\n",
    "tple[0]\n",
    "#tple[1:3]\n",
    "tple.count(\"banana\")\n",
    "tple.index(\"cherry\")\n",
    "\n"
   ]
  },
  {
   "cell_type": "markdown",
   "id": "48ea7b74",
   "metadata": {},
   "source": [
    "\n",
    "#tuple values change\n"
   ]
  },
  {
   "cell_type": "code",
   "execution_count": null,
   "id": "ebd62e66",
   "metadata": {},
   "outputs": [
    {
     "name": "stdout",
     "output_type": "stream",
     "text": [
      "(1, 99, 3)\n"
     ]
    }
   ],
   "source": [
    "t = (1, 2, 3)#tuple\n",
    "temp = list(t)\n",
    "temp[1] = 99\n",
    "t = tuple(temp)\n",
    "print(t)  # Output: (1, 99, 3)\n"
   ]
  },
  {
   "cell_type": "code",
   "execution_count": null,
   "id": "a2422369",
   "metadata": {},
   "outputs": [],
   "source": []
  }
 ],
 "metadata": {
  "kernelspec": {
   "display_name": "Python 3",
   "language": "python",
   "name": "python3"
  },
  "language_info": {
   "codemirror_mode": {
    "name": "ipython",
    "version": 3
   },
   "file_extension": ".py",
   "mimetype": "text/x-python",
   "name": "python",
   "nbconvert_exporter": "python",
   "pygments_lexer": "ipython3",
   "version": "3.11.9"
  }
 },
 "nbformat": 4,
 "nbformat_minor": 5
}
